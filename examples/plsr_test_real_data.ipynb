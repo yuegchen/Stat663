{
 "cells": [
  {
   "cell_type": "code",
   "execution_count": 1,
   "metadata": {},
   "outputs": [],
   "source": [
    "from plsr import plsr_train,predict\n",
    "import numpy as np\n",
    "from sklearn.datasets import load_linnerud"
   ]
  },
  {
   "cell_type": "code",
   "execution_count": 5,
   "metadata": {},
   "outputs": [],
   "source": [
    "linnerud = load_linnerud()"
   ]
  },
  {
   "cell_type": "code",
   "execution_count": 6,
   "metadata": {},
   "outputs": [],
   "source": [
    "X = linnerud['data']\n",
    "Y = linnerud['target']\n",
    "X = (X - np.mean(X))/np.std(X) \n",
    "Y = (Y - np.mean(Y))/np.std(Y)\n",
    "rows=len(X)\n",
    "colsX=len(X[0])\n",
    "colsY=len(Y[0])\n",
    "factors=2\n",
    "T=np.zeros((rows,factors))\n",
    "U=np.zeros((rows,factors))\n",
    "P=np.zeros((colsX,factors))\n",
    "Q=np.zeros((colsY,factors))\n",
    "W=np.zeros((colsX,colsX))\n",
    "B=np.zeros((colsX,1))\n",
    "Y_=np.zeros((rows,colsY))\n",
    "plsr_train(X,Y,factors,1e-7,T,U,P,Q,W,B)"
   ]
  },
  {
   "cell_type": "code",
   "execution_count": 7,
   "metadata": {},
   "outputs": [
    {
     "data": {
      "text/plain": [
       "array([[ 1.50848055, -0.94948592, -0.5818278 ],\n",
       "       [ 1.36678057, -0.79728893, -0.50498167],\n",
       "       [ 0.89740281, -0.55041718, -0.34104747],\n",
       "       [ 1.35094439, -0.76684971, -0.49166324],\n",
       "       [ 1.37243779, -0.86291122, -0.52902264],\n",
       "       [ 1.42656265, -0.80625667, -0.51794506],\n",
       "       [ 1.39179948, -0.78445674, -0.50456532],\n",
       "       [ 1.4961132 , -0.87753372, -0.55445682],\n",
       "       [ 1.62781718, -1.05677724, -0.63918971],\n",
       "       [ 0.3408037 , -0.54893926, -0.24923947],\n",
       "       [ 1.3206618 , -0.77195389, -0.48849439],\n",
       "       [ 1.18062579, -0.87067148, -0.50029696],\n",
       "       [ 1.25178768, -0.91085151, -0.52612017],\n",
       "       [ 1.23360323, -0.63214169, -0.42497205],\n",
       "       [ 1.35863553, -0.71772119, -0.47562088],\n",
       "       [ 1.16187578, -0.86345044, -0.49467842],\n",
       "       [ 1.394677  , -0.71972278, -0.48223701],\n",
       "       [ 1.52427828, -1.06725925, -0.62590028],\n",
       "       [ 1.49198485, -1.03784237, -0.6102428 ],\n",
       "       [ 1.48340399, -0.85114078, -0.54307641]])"
      ]
     },
     "execution_count": 7,
     "metadata": {},
     "output_type": "execute_result"
    }
   ],
   "source": [
    "predict(W,Q,P,X,Y_,B,factors)"
   ]
  },
  {
   "cell_type": "code",
   "execution_count": null,
   "metadata": {},
   "outputs": [],
   "source": []
  },
  {
   "cell_type": "code",
   "execution_count": null,
   "metadata": {},
   "outputs": [],
   "source": []
  },
  {
   "cell_type": "code",
   "execution_count": null,
   "metadata": {},
   "outputs": [],
   "source": []
  }
 ],
 "metadata": {
  "kernelspec": {
   "display_name": "Python 3",
   "language": "python",
   "name": "python3"
  },
  "language_info": {
   "codemirror_mode": {
    "name": "ipython",
    "version": 3
   },
   "file_extension": ".py",
   "mimetype": "text/x-python",
   "name": "python",
   "nbconvert_exporter": "python",
   "pygments_lexer": "ipython3",
   "version": "3.6.10"
  }
 },
 "nbformat": 4,
 "nbformat_minor": 2
}
